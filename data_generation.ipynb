{
  "cells": [
    {
      "cell_type": "code",
      "execution_count": null,
      "metadata": {
        "id": "B15eKnBoZIMy"
      },
      "outputs": [],
      "source": [
        "import iDEA\n",
        "import numpy as np"
      ]
    },
    {
      "cell_type": "code",
      "execution_count": null,
      "metadata": {
        "id": "1IN_TPY1OAOX"
      },
      "outputs": [],
      "source": [
        "def softcore_interaction(x)\n",
        "    n_gridpoints = len(x)\n",
        "    v_int = np.zeros((n_gridpoints, n_gridpoints))\n",
        "    for i in range(n_gridpoints):\n",
        "        for j in range(n_gridpoints):\n",
        "            v_int[i, j] = 1/np.sqrt((x[i]-x[j])**2+1)\n",
        "    return v_int"
      ]
    },
    {
      "cell_type": "code",
      "execution_count": null,
      "metadata": {
        "id": "erpddNhxgOfX"
      },
      "outputs": [],
      "source": [
        "def make_data(potentials,x):\n",
        "  n_gridpoints = len(x)\n",
        "  n_potentials = len(potentials)\n",
        "  v_int = softcore_interaction(x)\n",
        "  densities_1e = np.zeros(shape=(n_potentials,n_gridpoints))\n",
        "  densities_2e = np.zeros(shape=(n_potentials,n_gridpoints))\n",
        "  densities_3e = np.zeros(shape=(n_potentials,n_gridpoints))\n",
        "  energies_1e = np.zeros(shape=(n_potentials,1))\n",
        "  energies_2e = np.zeros(shape=(n_potentials,1))\n",
        "  energies_3e = np.zeros(shape=(n_potentials,1))\n",
        "  for i in range(n_potentials):\n",
        "    print(f\"Potential {i+1} out of {n_potentials}\")\n",
        "    print(\"Solving for 1 electron\")\n",
        "    electrons_1e = 'u'\n",
        "    system_1e = iDEA.system.System(x,potentials[i,:],v_int,electrons_1e)\n",
        "    state_1e = iDEA.methods.interacting.solve(system_1e,k=0)\n",
        "    energies_1e[i]= state_1e.energy\n",
        "    densities_1e[i,:]=iDEA.observables.density(system_1e,state_1e)\n",
        "\n",
        "    print(\"Solving for 2 electrons\")\n",
        "    electrons_2e = 'ud'\n",
        "    system_2e = iDEA.system.System(x,potentials[i,:],v_int,electrons_2e)\n",
        "    state_2e = iDEA.methods.interacting.solve(system_2e,k=0)\n",
        "    energies_2e[i]= state_2e.energy\n",
        "    densities_2e[i,:]=iDEA.observables.density(system_2e,state_2e)\n",
        "\n",
        "    print(\"Solving for 3 electrons\")\n",
        "    electrons_3e = 'udd'\n",
        "    system_3e = iDEA.system.System(x,potentials[i,:],v_int,electrons_3e)\n",
        "    state_3e = iDEA.methods.interacting.solve(system_3e,k=0)\n",
        "    energies_3e[i]= state_3e.energy\n",
        "    densities_3e[i,:]=iDEA.observables.density(system_3e,state_3e)\n",
        "\n",
        "  ionisations_1e = -energies_1e\n",
        "  ionisations_2e = energies_1e-energies_2e\n",
        "  ionisations_3e = energies_2e-energies_3e\n",
        "  affinities_1e = ionisations_2e\n",
        "  affinities_2e = ionisations_3e\n",
        "  gaps_1e = ionisations_1e - affinities_1e\n",
        "  gaps_2e = ionisations_2e - affinities_2e\n",
        "  universals_1e = energies_1e-np.trapz(potentials*densities_1e,x,axis=1).reshape(energies_1e.shape)\n",
        "  universals_2e = energies_2e-np.trapz(potentials*densities_2e,x,axis=1).reshape(energies_2e.shape)\n",
        "  universals_3e = energies_3e-np.trapz(potentials*densities_3e,x,axis=1).reshape(energies_3e.shape)\n",
        "  return densities_1e,densities_2e,densities_3e,energies_1e,energies_2e,energies_3e,ionisations_2e,ionisations_3e,affinities_1e,affinities_2e,universals_1e,universals_2e,universals_3e,gaps_1e,gaps_2e"
      ]
    },
    {
      "cell_type": "code",
      "source": [
        "def atomic_potential(x,Z,alpha):\n",
        "  return -Z/np.sqrt(x**2+alpha**2)"
      ],
      "metadata": {
        "id": "LnIYap-_OqyZ"
      },
      "execution_count": null,
      "outputs": []
    },
    {
      "cell_type": "code",
      "execution_count": null,
      "metadata": {
        "id": "9SRX3eiAxItq"
      },
      "outputs": [],
      "source": [
        "#defining the atomic potentials\n",
        "Zs=np.linspace(3,4.1,12) #effective nuclear charge values\n",
        "betas=np.linspace(1.2,1.75,12)\n",
        "alphas 1/betas #softening parameter values\n",
        "n_tot = len(Zs)*len(betas)\n",
        "x = np.linspace(-6,6,65) #spatial grid\n",
        "potentials = np.zeros(shape=(n_tot,x.size))\n",
        "i=0\n",
        "for Z in Zs:\n",
        "  for alpha in alphas:\n",
        "    potentials[i,:] = atomic_potential(x,Z,alpha)\n",
        "    i+=1"
      ]
    },
    {
      "cell_type": "code",
      "execution_count": null,
      "metadata": {
        "id": "ECnahsVY0jGc"
      },
      "outputs": [],
      "source": [
        "#calculating all electronic properties\n",
        "densities_1e,densities_2e,densities_3e,energies_1e,energies_2e,energies_3e,ionisations_2e,ionisations_3e,affinities_1e,affinities_2e,universals_1e,universals_2e,universals_3e,gaps_1e,gaps_2e = make_data(potentials,x)"
      ]
    },
    {
      "cell_type": "code",
      "execution_count": null,
      "metadata": {
        "id": "hWW8SofhOAOf"
      },
      "outputs": [],
      "source": [
        "np.savez('full_dataset.npz',potentials=potentials,densities_1e=densities_1e,densities_2e=densities_2e,densities_3e=densities_3e,\n",
        "         energies_1e=energies_1e,energies_2e=energies_2e,energies_3e=energies_3e,ionisations_2e=ionisations_2e,ionisations_3e=ionisations_3e,\n",
        "         affinities_1e=affinities_1e,affinities_2e=affinities_2e,universals_1e=universals_1e,universals_2e=universals_2e,universals_3e=universals_3e,\n",
        "         gaps_1e=gaps_1e,gaps_2e=gaps_2e)"
      ]
    }
  ],
  "metadata": {
    "colab": {
      "provenance": []
    },
    "kernelspec": {
      "display_name": "base",
      "language": "python",
      "name": "python3"
    },
    "language_info": {
      "codemirror_mode": {
        "name": "ipython",
        "version": 3
      },
      "file_extension": ".py",
      "mimetype": "text/x-python",
      "name": "python",
      "nbconvert_exporter": "python",
      "pygments_lexer": "ipython3",
      "version": "3.12.4"
    }
  },
  "nbformat": 4,
  "nbformat_minor": 0
}